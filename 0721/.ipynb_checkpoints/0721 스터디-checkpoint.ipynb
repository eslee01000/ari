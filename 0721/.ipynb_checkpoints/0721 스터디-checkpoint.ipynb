{
 "cells": [
  {
   "cell_type": "markdown",
   "metadata": {},
   "source": [
    "### 궁금했던 점 : 왜 여기서 sum[list]가 개수가 되는 거얏??\n",
    "\n",
    "def count_negatives(nums):\n",
    "    # Reminder: in the \"booleans and conditionals\" exercises, we learned about a quirk of \n",
    "    # Python where it calculates something like True + True + False + True to be equal to 3.\n",
    "    return sum([num < 0 for num in nums])\n",
    "    \n",
    "    \n",
    "    ==> num < 0 : true와 false로 반환되는 값. 그래서 sum으로 했을 때 true를 세게 된다는 것(false는 자동으로 안 셈)"
   ]
  },
  {
   "cell_type": "markdown",
   "metadata": {},
   "source": [
    "## any 함수\n",
    "\n",
    "any(iterable, /)\n",
    "    Return True if bool(x) is True for any x in the iterable.\n",
    "    \n",
    "    If the iterable is empty, return False.\n",
    "\n",
    "##### = bool 자료형 출력할 때 사용하는 function"
   ]
  },
  {
   "cell_type": "markdown",
   "metadata": {},
   "source": [
    "## 리스트 자료형\n",
    "1. [Sorted(list)와 list.sort()의 차이점]\n",
    "• List.sort()를 사용하면 원본 리스트의 순서를 변화시키고 (반환: none)\n",
    "• Sorted(list)를 사용하면 정렬된 새로운 리스트를 반환한다.\n",
    "\n",
    "\n",
    "\n",
    "2. \n",
    "개수가 맞는 리스트 자료형일때\n",
    "\n",
    "lst=[1,2,3]\n",
    "a,b,c=lst \n",
    "\n",
    "==>a=1,b=2,c=3\n",
    "\n",
    "개수가 맞지 않는 리스트 자료형일때\n",
    "lst = [1, 2, 3, 4, 5]\n",
    "\n",
    "a, *b, c = [1,2,3,4,5]\n",
    "a=1\n",
    "b=2,3,4\n",
    "c=5\n",
    "\n",
    "여기서 *은 리스트를 유지하는 것!"
   ]
  },
  {
   "cell_type": "code",
   "execution_count": 1,
   "metadata": {},
   "outputs": [],
   "source": [
    "lst=[1,2,3]\n",
    "a,b,c=lst"
   ]
  },
  {
   "cell_type": "code",
   "execution_count": 3,
   "metadata": {},
   "outputs": [
    {
     "data": {
      "text/plain": [
       "1"
      ]
     },
     "execution_count": 3,
     "metadata": {},
     "output_type": "execute_result"
    }
   ],
   "source": [
    "a"
   ]
  },
  {
   "cell_type": "code",
   "execution_count": 4,
   "metadata": {},
   "outputs": [],
   "source": [
    "lst = [1, 2, 3, 4, 5]"
   ]
  },
  {
   "cell_type": "code",
   "execution_count": 5,
   "metadata": {},
   "outputs": [],
   "source": [
    "a, *b, c = [1,2,3,4,5]"
   ]
  },
  {
   "cell_type": "code",
   "execution_count": 7,
   "metadata": {},
   "outputs": [
    {
     "data": {
      "text/plain": [
       "[2, 3, 4]"
      ]
     },
     "execution_count": 7,
     "metadata": {},
     "output_type": "execute_result"
    }
   ],
   "source": [
    "b"
   ]
  },
  {
   "cell_type": "code",
   "execution_count": 8,
   "metadata": {},
   "outputs": [
    {
     "data": {
      "text/plain": [
       "int"
      ]
     },
     "execution_count": 8,
     "metadata": {},
     "output_type": "execute_result"
    }
   ],
   "source": [
    "type(a)"
   ]
  },
  {
   "cell_type": "code",
   "execution_count": 9,
   "metadata": {},
   "outputs": [
    {
     "data": {
      "text/plain": [
       "list"
      ]
     },
     "execution_count": 9,
     "metadata": {},
     "output_type": "execute_result"
    }
   ],
   "source": [
    "type(b)"
   ]
  },
  {
   "cell_type": "markdown",
   "metadata": {},
   "source": [
    "## 2822번\n",
    "\n",
    "https://www.acmicpc.net/problem/2822\n",
    "\n",
    "\n",
    "상근이는 퀴즈쇼의 PD이다. 이 퀴즈쇼의 참가자는 총 8개 문제를 푼다. 참가자는 각 문제를 풀고, 그 문제를 풀었을 때 얻는 점수는 문제를 풀기 시작한 시간부터 경과한 시간과 난이도로 결정한다. 문제를 풀지 못한 경우에는 0점을 받는다. 참가자의 총 점수는 가장 높은 점수 5개의 합이다. \n",
    "\n",
    "상근이는 잠시 여자친구와 전화 통화를 하느라 참가자의 점수를 계산하지 않고 있었다. 참가자의 8개 문제 점수가 주어졌을 때, 총 점수를 구하는 프로그램을 작성하시오.\n",
    "\n",
    "입력\n",
    "8개 줄에 걸쳐서 각 문제에 대한 참가자의 점수가 주어진다. 점수는 0보다 크거나 같고, 150보다 작거나 같다. 모든 문제에 대한 점수는 서로 다르다. 입력으로 주어지는 순서대로 1번 문제, 2번 문제, ... 8번 문제이다.\n",
    "\n",
    "출력\n",
    "첫째 줄에 참가자의 총점을 출력한다. 둘째 줄에는 어떤 문제가 최종 점수에 포함되는지를 공백으로 구분하여 출력한다. 출력은 문제 번호가 증가하는 순서이어야 한다."
   ]
  },
  {
   "cell_type": "code",
   "execution_count": 1,
   "metadata": {},
   "outputs": [
    {
     "name": "stdout",
     "output_type": "stream",
     "text": [
      "20\n",
      "30\n",
      "50\n",
      "48\n",
      "33\n",
      "66\n",
      "0\n",
      "64\n",
      "261\n",
      "3 4 5 6 8\n"
     ]
    }
   ],
   "source": [
    "score_sum=[]\n",
    "a=[]\n",
    "for _ in range(8):\n",
    "    score = int(input())\n",
    "    score_sum.append(score)\n",
    "b=sorted(score_sum)[-5:]\n",
    "a=sorted(range(len(score_sum)), key=lambda i:score_sum[i])[-5:]\n",
    "print(sum(b))\n",
    "c=[]\n",
    "for i in a:\n",
    "    i+=1\n",
    "    c.append(i)\n",
    "c.sort()\n",
    "print(\" \".join(map(str,c)))"
   ]
  },
  {
   "cell_type": "markdown",
   "metadata": {},
   "source": [
    "### map(str,c) 으로 해서 문자열로 바꿔주면 백준 맞음~~!\n",
    "\n",
    "sorted(range(len(score_sum)), key=lambda i:score_sum[i])[-5:]\n",
    "\n",
    "에서 lambda i는 i라는 함수를 정의하는 것!!!\n",
    "range(len(score_sum))=[0,1,2,3,4,5,6,7]\n",
    "\n",
    "lambda i\n",
    "에서 i는 점점 0으로 접근하는거!!!\n",
    "lambda i는 왼쪽에 있는 데이터셋을 하나씩 가져오는 거!!!!!!!\n",
    "\n",
    "score_sum[0] = 0\n",
    "score_sum[1] = 1\n",
    "\n",
    "score_sum=[20,30,50,48,33,66,0,64]\n",
    "score_sum의 모든 자료를 기준으로 값을 돌려주는 함수 = lambda i!!\n",
    "\n",
    "0,1,2,3,4,5,6,7  -  20,30,50,48,33,66,0,64\n",
    "\n",
    "score_sum[i]를 기준으로 정렬을 하겠다!!(key를 람다로 지정한 것이므로)\n",
    "score_sum[i] 값이 큰 순으로 sorted를 하겠다!!!!\n",
    "\n",
    "그래서 sorted(range(len(score_sum)), key=lambda i:score_sum[i])을 출력하면\n",
    "(5,7,2,3,4,1,0,6)\n",
    "이렇게 돼!!\n",
    "\n",
    "그랬을 때 앞에 있는 다섯개를 출력하는 거!!!!\n",
    "(5,7,2,3,4)"
   ]
  },
  {
   "cell_type": "code",
   "execution_count": 26,
   "metadata": {},
   "outputs": [
    {
     "data": {
      "text/plain": [
       "range(0, 8)"
      ]
     },
     "execution_count": 26,
     "metadata": {},
     "output_type": "execute_result"
    }
   ],
   "source": [
    "range(8)"
   ]
  },
  {
   "cell_type": "code",
   "execution_count": 27,
   "metadata": {},
   "outputs": [
    {
     "name": "stdout",
     "output_type": "stream",
     "text": [
      "range(0, 8)\n"
     ]
    }
   ],
   "source": [
    "print(range(8))"
   ]
  },
  {
   "cell_type": "code",
   "execution_count": 29,
   "metadata": {},
   "outputs": [
    {
     "name": "stdout",
     "output_type": "stream",
     "text": [
      "0\n",
      "1\n",
      "2\n",
      "3\n",
      "4\n",
      "5\n",
      "6\n",
      "7\n"
     ]
    }
   ],
   "source": [
    "for i in range(8):\n",
    "    print(i)"
   ]
  },
  {
   "cell_type": "code",
   "execution_count": 32,
   "metadata": {},
   "outputs": [
    {
     "name": "stdout",
     "output_type": "stream",
     "text": [
      "0\n",
      "1\n",
      "2\n",
      "3\n"
     ]
    }
   ],
   "source": [
    "list2=[1,2,3,4]\n",
    "for i in range(len(list2)):\n",
    "    print(i)"
   ]
  },
  {
   "cell_type": "markdown",
   "metadata": {},
   "source": [
    "## 현수오빠 답\n",
    "\n",
    "` lst = dict()\n",
    "\n",
    "with open(\"example.txt\") as t:\n",
    "    \n",
    "    for i in range(8):\n",
    "        lst[i] = int(t.readline())\n",
    "    print(lst)\n",
    "    print(lst.items())\n",
    "    lst = sorted(lst.items(), key=lambda x: x[1], reverse=True)[:5]\n",
    "    lst.sort(key=lambda x: x[0])\n",
    "    for key in lst:\n",
    "        print(key[0] + 1)\n",
    "\n",
    "\n",
    "\n",
    "\n",
    "\n",
    "\n",
    "key : 정렬 기준을 무엇을 잡을거냐\n",
    "\n",
    "-0-7은 위치값일 뿐이니까 정렬해야하는건 20~ 64의 값.\n",
    "\n",
    "-x뒤가 [0]이면 key 기준 정렬 [1]이면 value 기준 정렬\n",
    "\n",
    "-[:5] 뜻은 5개까지만 정렬하겠다는 뜻\n",
    "\n",
    "-reverse 를 true 하게되면 값 정렬을 내림차순으로 바꿔줌\n",
    "\n",
    "**list 의 단점은 sort 하게 되면, 내 자신의 위치정보를 잃어버리게 된다.\n",
    "그 위치정보를 가져오게 하려면 dict로 앞에 내 위치정보를 저장해야 한다\n",
    "\n",
    "-그렇게 안하면 list를 전부 매칭을 해봐야하는데, 그럴경우 문제는 만약 똑같은 숫자가 있으면 문제가 발생하게됌\n",
    "\n",
    "(여기서 lst.sort(key=lambda x:x[1])로 하면 인덱스가 아니라 value값으로 정렬이 됨!\n",
    "딕셔너리의 장점. 리스트를 sorting한 뒤에도 원래 인덱스의 값을 찾을 떄 찾기가 쉽다.\n",
    "key, value 값을 잘 활용해줘야 함!"
   ]
  },
  {
   "cell_type": "markdown",
   "metadata": {},
   "source": [
    "## 딕셔너리\n",
    "lst[i] = int(input())\n",
    "\n",
    "여기서 i가 인덱스값이 되고 input이 자동적으로 value가 된다!!"
   ]
  },
  {
   "cell_type": "code",
   "execution_count": null,
   "metadata": {},
   "outputs": [],
   "source": []
  },
  {
   "cell_type": "code",
   "execution_count": null,
   "metadata": {},
   "outputs": [],
   "source": []
  },
  {
   "cell_type": "code",
   "execution_count": null,
   "metadata": {},
   "outputs": [],
   "source": []
  },
  {
   "cell_type": "code",
   "execution_count": null,
   "metadata": {},
   "outputs": [],
   "source": []
  }
 ],
 "metadata": {
  "kernelspec": {
   "display_name": "Python 3",
   "language": "python",
   "name": "python3"
  },
  "language_info": {
   "codemirror_mode": {
    "name": "ipython",
    "version": 3
   },
   "file_extension": ".py",
   "mimetype": "text/x-python",
   "name": "python",
   "nbconvert_exporter": "python",
   "pygments_lexer": "ipython3",
   "version": "3.7.4"
  }
 },
 "nbformat": 4,
 "nbformat_minor": 2
}
