{
 "cells": [
  {
   "cell_type": "markdown",
   "metadata": {},
   "source": [
    "## 10870번\n",
    "\n",
    "https://www.acmicpc.net/problem/10870\n",
    "\n",
    "\n",
    "피보나치 수는 0과 1로 시작한다. 0번째 피보나치 수는 0이고, 1번째 피보나치 수는 1이다. 그 다음 2번째 부터는 바로 앞 두 피보나치 수의 합이 된다. \n",
    "\n",
    "이를 식으로 써보면 Fn = Fn-1 + Fn-2 (n>=2)가 된다.n=17일때 까지 피보나치 수를 써보면 다음과 같다.\n",
    "\n",
    "0, 1, 1, 2, 3, 5, 8, 13, 21, 34, 55, 89, 144, 233, 377, 610, 987, 1597\n",
    "\n",
    "n이 주어졌을 때, n번째 피보나치 수를 구하는 프로그램을 작성하시오."
   ]
  },
  {
   "cell_type": "code",
   "execution_count": 37,
   "metadata": {},
   "outputs": [
    {
     "name": "stdout",
     "output_type": "stream",
     "text": [
      "10\n",
      "55\n",
      "[0, 1, 1, 2, 3, 5, 8, 13, 21, 34, 55, 89, 144, 144]\n"
     ]
    }
   ],
   "source": [
    "lst=[0,1,'']\n",
    "n=int(input())\n",
    "\n",
    "for i in range(n+1):\n",
    "    lst[i+2] = lst[i]+lst[i+1]\n",
    "    lst.append(lst[i+2])\n",
    "print(lst[n])\n",
    "print(lst)\n",
    "\n",
    "#내 걸로 하면 문제점이 i+2이므로 출력해야 하는 수보다 훨씬 뒤의 수까지 다 나오게 된다는거,,,,\n",
    "#공백을 만들어줬을 뿐만 아니라 lst[i+2]랑 lst.append로 숫자를 두 개나 더 붙여줬다는 거!!"
   ]
  },
  {
   "cell_type": "code",
   "execution_count": 36,
   "metadata": {},
   "outputs": [
    {
     "name": "stdout",
     "output_type": "stream",
     "text": [
      "10\n",
      "55\n",
      "[0, 1, 1, 2, 3, 5, 8, 13, 21, 34, 55]\n"
     ]
    },
    {
     "data": {
      "text/plain": [
       "55"
      ]
     },
     "execution_count": 36,
     "metadata": {},
     "output_type": "execute_result"
    }
   ],
   "source": [
    "lst=[0,1]\n",
    "n=int(input())\n",
    "\n",
    "for i in range(n-1):\n",
    "    lst.append(lst[i]+lst[i+1])\n",
    "print(lst[n])\n"
   ]
  },
  {
   "cell_type": "markdown",
   "metadata": {},
   "source": [
    "### 현수오빠 답\n",
    "\n",
    "    N = int(input())\n",
    "    def fibonacci(n):\n",
    "        a, b = 1, 1\n",
    "        for _ in range(n):\n",
    "            yield a\n",
    "            a, b = b, a+b\n",
    "    print(list(fibonacci(N))[-1])\n",
    "    \n",
    "==> yield\n",
    "\n",
    "==> 함수가 그때그때 마다 답을 보내주는 형식! yield = '값을 보내준다'\n",
    "값을 밖으로 내보내면서 밑의 for문은 계속해서 돌아감!\n",
    "\n",
    "==> 10만개의 리스트를 한 번에 만드는 게 아니라 하나씩 답을 그 때 그 때 내보낼 때 쓰는 것!!!\n",
    "\n",
    "\n",
    "\n",
    "    N = int(input())\n",
    "    lst = [1, 1]\n",
    "    for i in range(1, N-1):\n",
    "        lst.append(lst[i] + lst[i-1])\n",
    "    print(lst[-1])\n",
    "    \n",
    "    \n",
    "==> 이게 가능했던 건 i-1로 기존에 있던 수로 계속 피보나치를 돌리니까 됐던거!! 나는 i+1로 했기 때문에 '' 를 따로 만들었어야 했는데,,!!"
   ]
  },
  {
   "cell_type": "code",
   "execution_count": 27,
   "metadata": {},
   "outputs": [
    {
     "name": "stdout",
     "output_type": "stream",
     "text": [
      "10\n",
      "55\n",
      "[1, 1, 2, 3, 5, 8, 13, 21, 34, 55]\n"
     ]
    }
   ],
   "source": [
    "N = int(input())\n",
    "lst = [1, 1]\n",
    "for i in range(1, N-1):\n",
    "    lst.append(lst[i] + lst[i-1])\n",
    "print(lst[-1])\n",
    "print(lst)"
   ]
  },
  {
   "cell_type": "code",
   "execution_count": 30,
   "metadata": {},
   "outputs": [
    {
     "name": "stdout",
     "output_type": "stream",
     "text": [
      "10\n",
      "55\n",
      "[0, 1, 1, 2, 3, 5, 8, 13, 21, 34, 55]\n"
     ]
    }
   ],
   "source": [
    "lst=[0,1]\n",
    "n=int(input())\n",
    "\n",
    "for i in range(1,n):\n",
    "    lst.append(lst[i]+lst[i-1])\n",
    "print(lst[n])\n",
    "print(lst)\n",
    "\n",
    "#내 걸로 하면 문제점이 i+2이므로 출력해야 하는 수보다 훨씬 뒤의 수까지 다 나오게 된다는거,,,,"
   ]
  },
  {
   "cell_type": "code",
   "execution_count": null,
   "metadata": {},
   "outputs": [],
   "source": []
  }
 ],
 "metadata": {
  "kernelspec": {
   "display_name": "Python 3",
   "language": "python",
   "name": "python3"
  },
  "language_info": {
   "codemirror_mode": {
    "name": "ipython",
    "version": 3
   },
   "file_extension": ".py",
   "mimetype": "text/x-python",
   "name": "python",
   "nbconvert_exporter": "python",
   "pygments_lexer": "ipython3",
   "version": "3.7.4"
  }
 },
 "nbformat": 4,
 "nbformat_minor": 2
}
