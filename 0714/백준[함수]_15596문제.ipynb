{
 "cells": [
  {
   "cell_type": "markdown",
   "metadata": {},
   "source": [
    "# 15596번 문제"
   ]
  },
  {
   "cell_type": "code",
   "execution_count": 1,
   "metadata": {},
   "outputs": [],
   "source": [
    "#함수를 1부터 n까지 더하는 함수 식\n",
    "\n",
    "def sumnumber(n):\n",
    "    a = range(n+1)\n",
    "    b = 0\n",
    "    for i in a:\n",
    "        b = i + b\n",
    "    return b"
   ]
  },
  {
   "cell_type": "code",
   "execution_count": 2,
   "metadata": {},
   "outputs": [
    {
     "data": {
      "text/plain": [
       "10"
      ]
     },
     "execution_count": 2,
     "metadata": {},
     "output_type": "execute_result"
    }
   ],
   "source": [
    "sumnumber(4)\n",
    "\n",
    "#근데 이렇게 하니까 백준에서 런타임에러가 뜸..\n",
    "\n",
    "\n"
   ]
  },
  {
   "cell_type": "markdown",
   "metadata": {},
   "source": [
    "## n = int(input())\n",
    "a = range(n+1)\n",
    "b = 0\n",
    "for i in a:\n",
    "    b = i + b\n",
    "print(b)"
   ]
  },
  {
   "cell_type": "markdown",
   "metadata": {},
   "source": [
    "# 1000번 문제"
   ]
  },
  {
   "cell_type": "code",
   "execution_count": 4,
   "metadata": {},
   "outputs": [],
   "source": [
    "def a(A,B):\n",
    "    sum = A + B\n",
    "    if 10 > A > 0 and 0 < B < 10:\n",
    "        return sum"
   ]
  },
  {
   "cell_type": "code",
   "execution_count": 5,
   "metadata": {},
   "outputs": [],
   "source": [
    "a(3,11)"
   ]
  },
  {
   "cell_type": "code",
   "execution_count": 6,
   "metadata": {},
   "outputs": [
    {
     "data": {
      "text/plain": [
       "3"
      ]
     },
     "execution_count": 6,
     "metadata": {},
     "output_type": "execute_result"
    }
   ],
   "source": [
    "\n",
    "a(2,1)"
   ]
  },
  {
   "cell_type": "markdown",
   "metadata": {},
   "source": [
    "# https://www.acmicpc.net/problem/tag/%EC%B6%9C%EB%A0%A5 나중에 여기 참고하기"
   ]
  },
  {
   "cell_type": "markdown",
   "metadata": {},
   "source": [
    "# 10886번 문제"
   ]
  },
  {
   "cell_type": "code",
   "execution_count": 7,
   "metadata": {
    "scrolled": true
   },
   "outputs": [
    {
     "ename": "SyntaxError",
     "evalue": "invalid syntax (<ipython-input-7-0f615614e058>, line 1)",
     "output_type": "error",
     "traceback": [
      "\u001b[0;36m  File \u001b[0;32m\"<ipython-input-7-0f615614e058>\"\u001b[0;36m, line \u001b[0;32m1\u001b[0m\n\u001b[0;31m    def count_cute(n,\"0\"*m,\"1\"*(n-m)):\u001b[0m\n\u001b[0m                       ^\u001b[0m\n\u001b[0;31mSyntaxError\u001b[0m\u001b[0;31m:\u001b[0m invalid syntax\n"
     ]
    }
   ],
   "source": [
    "def count_cute(n,\"0\"*m,\"1\"*(n-m)):\n",
    "    if count('0') >= n+1/2:\n",
    "        print('junhee is not cute')\n",
    "    else:\n",
    "        print('junhee is cute')"
   ]
  },
  {
   "cell_type": "code",
   "execution_count": 16,
   "metadata": {},
   "outputs": [
    {
     "ename": "SyntaxError",
     "evalue": "invalid syntax (<ipython-input-16-fcc7c2628cd0>, line 3)",
     "output_type": "error",
     "traceback": [
      "\u001b[0;36m  File \u001b[0;32m\"<ipython-input-16-fcc7c2628cd0>\"\u001b[0;36m, line \u001b[0;32m3\u001b[0m\n\u001b[0;31m    def count_cute(n,\"0\"*m,\"1\"*(n-m)):\u001b[0m\n\u001b[0m                       ^\u001b[0m\n\u001b[0;31mSyntaxError\u001b[0m\u001b[0;31m:\u001b[0m invalid syntax\n"
     ]
    }
   ],
   "source": [
    "m=int(input())\n",
    "n=int(input())\n",
    "def count_cute(n,\"0\"*m,\"1\"*(n-m)):\n",
    "    if count('0') >= (n+1)/2:\n",
    "        print('junhee is not cute')\n",
    "    else:\n",
    "        print('junhee is cute')"
   ]
  },
  {
   "cell_type": "code",
   "execution_count": 9,
   "metadata": {},
   "outputs": [],
   "source": [
    "def a(n,m):\n",
    "    if m >= n+1/2:\n",
    "        print('junhee is not cute')\n",
    "    else:\n",
    "        print('junhee is cute')"
   ]
  },
  {
   "cell_type": "code",
   "execution_count": 10,
   "metadata": {},
   "outputs": [],
   "source": [
    "a = []"
   ]
  },
  {
   "cell_type": "code",
   "execution_count": 11,
   "metadata": {},
   "outputs": [],
   "source": [
    "a = 3,1,0,0"
   ]
  },
  {
   "cell_type": "code",
   "execution_count": 22,
   "metadata": {},
   "outputs": [
    {
     "name": "stdout",
     "output_type": "stream",
     "text": [
      "junhee is cute\n"
     ]
    }
   ],
   "source": [
    "\n",
    "    \n",
    "def b(mylist):\n",
    "    if mylist.count(0) > len(mylist)/2:\n",
    "        print('junhee is not cute')\n",
    "    else:\n",
    "        print('junhee is cute')\n",
    "        \n",
    "mylist=[5,1,1,1,0,0]\n",
    "b(mylist)"
   ]
  },
  {
   "cell_type": "code",
   "execution_count": 8,
   "metadata": {},
   "outputs": [
    {
     "name": "stdout",
     "output_type": "stream",
     "text": [
      "3\n",
      "1\n",
      "0\n",
      "0\n",
      "Junhee is not cute!\n"
     ]
    }
   ],
   "source": [
    "mylist=[]\n",
    "N = int(input())\n",
    "for i in range(N):\n",
    "    a=int(input())\n",
    "    mylist.append(a)\n",
    "    \n",
    "if mylist.count(0) >= (len(mylist)+1)/2:\n",
    "    print('Junhee is not cute!')\n",
    "else:\n",
    "    print('Junhee is cute!')\n",
    "    "
   ]
  },
  {
   "cell_type": "markdown",
   "metadata": {},
   "source": [
    "# 2753번 문제"
   ]
  },
  {
   "cell_type": "code",
   "execution_count": 14,
   "metadata": {
    "scrolled": true
   },
   "outputs": [],
   "source": [
    "def year(a):\n",
    "    if (a%4==0 and a%100!=0) or a%400==0:\n",
    "        return 1\n",
    "    else:\n",
    "        return 0"
   ]
  },
  {
   "cell_type": "code",
   "execution_count": 15,
   "metadata": {},
   "outputs": [
    {
     "ename": "SyntaxError",
     "evalue": "invalid syntax (<ipython-input-15-34dc9068bf5f>, line 3)",
     "output_type": "error",
     "traceback": [
      "\u001b[0;36m  File \u001b[0;32m\"<ipython-input-15-34dc9068bf5f>\"\u001b[0;36m, line \u001b[0;32m3\u001b[0m\n\u001b[0;31m    스크루지씨는 엄청난 구두쇠라서 똑같은 달력을 나중에 재사용한다. Y년 달력은 언제 다시 쓰이게 될 지 계산해보자.\u001b[0m\n\u001b[0m             ^\u001b[0m\n\u001b[0;31mSyntaxError\u001b[0m\u001b[0;31m:\u001b[0m invalid syntax\n"
     ]
    }
   ],
   "source": [
    "Summary\n",
    "DESCRIPTION\n",
    "스크루지씨는 엄청난 구두쇠라서 똑같은 달력을 나중에 재사용한다. Y년 달력은 언제 다시 쓰이게 될 지 계산해보자.\n",
    "달력은 그레고리력(양력)을 기준으로 한다. 똑같은 달력은 1월부터 12월까지 모든 날짜와 요일이 일치하는 달력을 의미한다.\n",
    "그레고리력에는 윤년(2월 29일이 있는 해)과 평년(2월 29일이 없는 해)이 있다. 윤년의 규칙은 다음과 같다.\n",
    "1. 4로 나누어지는 연도는 윤년이다.\n",
    "2. 그러나 100으로 나누어지는 연도는 평년이다.\n",
    "3. 그러나 400으로 나누어지는 연도는 윤년이다.\n",
    "이 규칙을 기준으로 주어진 년도의 달력이 언제 다시 쓰이게 될 지 계산해보자. \n",
    "\n",
    "\n",
    "INPUT\n",
    "* Line 1 : 입력의 갯수 N이 주어진다. (1≤ N ≤1000)\n",
    "* Line 2 ~ N+1 : 연도 Y가 주어진다. (1600≤ Y ≤5000)\n",
    "\n",
    "OUTPUT\n",
    "* Line 1~N : Y년 이후에 Y년도 달력과 똑같은 달력이 나오는 가장 빠른년도를 출력한다.\n",
    "\n",
    "SAMPLE INPUT\n",
    "3\n",
    "2019\n",
    "2020\n",
    "2021\n",
    "\n",
    "SAMPLE OUTPUT\n",
    "2030\n",
    "2048\n",
    "2027"
   ]
  },
  {
   "cell_type": "code",
   "execution_count": null,
   "metadata": {},
   "outputs": [],
   "source": [
    "N=int(input('N:'))\n",
    "Y=int(input('Y:'))\n",
    "\n",
    "\n",
    "\n"
   ]
  },
  {
   "cell_type": "markdown",
   "metadata": {},
   "source": []
  },
  {
   "cell_type": "code",
   "execution_count": null,
   "metadata": {},
   "outputs": [],
   "source": [
    "a,b=map(int,input('A,B(0<A,B<10): ').split()); print(a+b)"
   ]
  },
  {
   "cell_type": "code",
   "execution_count": null,
   "metadata": {},
   "outputs": [],
   "source": [
    "print(\"{} {}\".format(a, b))"
   ]
  },
  {
   "cell_type": "markdown",
   "metadata": {},
   "source": [
    "## print(\"%d\".format(A+B))\n",
    "## print(\"{}\".format(A+B))\n",
    "## or _ in range(N):"
   ]
  },
  {
   "cell_type": "code",
   "execution_count": null,
   "metadata": {},
   "outputs": [],
   "source": []
  },
  {
   "cell_type": "code",
   "execution_count": 22,
   "metadata": {},
   "outputs": [
    {
     "name": "stdout",
     "output_type": "stream",
     "text": [
      "3\n",
      "*\n",
      "**\n",
      "***\n"
     ]
    }
   ],
   "source": [
    "#첫째 줄에는 별 1개, 둘째 줄에는 별 2개, N번째 줄에는 별 N개를 찍는 문제\n",
    "\n",
    "#입력\n",
    "#첫째 줄에 N(1 ≤ N ≤ 100)이 주어진다.\n",
    "\n",
    "#출력\n",
    "#첫째 줄부터 N번째 줄까지 차례대로 별을 출력한다.\n",
    "\n",
    "\n",
    "n = int(input())\n",
    "for i in range(1,n+1):\n",
    "    print(\"*\"*int(i))"
   ]
  },
  {
   "cell_type": "code",
   "execution_count": null,
   "metadata": {},
   "outputs": [],
   "source": []
  }
 ],
 "metadata": {
  "kernelspec": {
   "display_name": "Python 3",
   "language": "python",
   "name": "python3"
  },
  "language_info": {
   "codemirror_mode": {
    "name": "ipython",
    "version": 3
   },
   "file_extension": ".py",
   "mimetype": "text/x-python",
   "name": "python",
   "nbconvert_exporter": "python",
   "pygments_lexer": "ipython3",
   "version": "3.7.4"
  }
 },
 "nbformat": 4,
 "nbformat_minor": 2
}
