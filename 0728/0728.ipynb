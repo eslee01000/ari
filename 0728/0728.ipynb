{
 "cells": [
  {
   "cell_type": "markdown",
   "metadata": {},
   "source": [
    "## 1100번\n",
    "\n",
    "https://www.acmicpc.net/problem/1100\n",
    "\n",
    "\n",
    "\n",
    "체스판은 8*8크기이고, 검정 칸과 하얀 칸이 번갈아가면서 색칠되어 있다. 가장 왼쪽 위칸 (0,0)은 하얀색이다. 체스판의 상태가 주어졌을 때, 하얀 칸 위에 말이 몇 개 있는지 출력하는 프로그램을 작성하시오.\n",
    "\n",
    "입력\n",
    "첫째 줄부터 8개의 줄에 체스판의 상태가 주어진다. ‘.’은 빈 칸이고, ‘F’는 위에 말이 있는 칸이다."
   ]
  },
  {
   "cell_type": "code",
   "execution_count": 1,
   "metadata": {},
   "outputs": [
    {
     "name": "stdout",
     "output_type": "stream",
     "text": [
      "F...F.F.\n",
      "F...F.F.\n",
      "F...F.F.\n",
      "F...F.F.\n",
      "F...F.F.\n",
      "F...F.F.\n",
      "F...F.F.\n",
      "F...F.F.\n"
     ]
    },
    {
     "ename": "ValueError",
     "evalue": "substring not found",
     "output_type": "error",
     "traceback": [
      "\u001b[0;31m---------------------------------------------------------------------------\u001b[0m",
      "\u001b[0;31mValueError\u001b[0m                                Traceback (most recent call last)",
      "\u001b[0;32m<ipython-input-1-06eb56d403b9>\u001b[0m in \u001b[0;36m<module>\u001b[0;34m\u001b[0m\n\u001b[1;32m      8\u001b[0m     \u001b[0;32mif\u001b[0m \u001b[0mlst\u001b[0m\u001b[0;34m.\u001b[0m\u001b[0mindex\u001b[0m\u001b[0;34m(\u001b[0m\u001b[0mi\u001b[0m\u001b[0;34m)\u001b[0m\u001b[0;34m%\u001b[0m\u001b[0;36m2\u001b[0m\u001b[0;34m==\u001b[0m\u001b[0;36m0\u001b[0m\u001b[0;34m:\u001b[0m\u001b[0;34m\u001b[0m\u001b[0;34m\u001b[0m\u001b[0m\n\u001b[1;32m      9\u001b[0m         \u001b[0;32mfor\u001b[0m \u001b[0mj\u001b[0m \u001b[0;32min\u001b[0m \u001b[0mi\u001b[0m\u001b[0;34m:\u001b[0m\u001b[0;34m\u001b[0m\u001b[0;34m\u001b[0m\u001b[0m\n\u001b[0;32m---> 10\u001b[0;31m             \u001b[0;32mif\u001b[0m \u001b[0mj\u001b[0m\u001b[0;34m.\u001b[0m\u001b[0mindex\u001b[0m\u001b[0;34m(\u001b[0m\u001b[0;34m'F'\u001b[0m\u001b[0;34m)\u001b[0m\u001b[0;34m%\u001b[0m\u001b[0;36m2\u001b[0m\u001b[0;34m!=\u001b[0m\u001b[0;36m0\u001b[0m\u001b[0;34m:\u001b[0m\u001b[0;34m\u001b[0m\u001b[0;34m\u001b[0m\u001b[0m\n\u001b[0m\u001b[1;32m     11\u001b[0m                 \u001b[0msum_\u001b[0m\u001b[0;34m+=\u001b[0m\u001b[0;36m1\u001b[0m\u001b[0;34m\u001b[0m\u001b[0;34m\u001b[0m\u001b[0m\n\u001b[1;32m     12\u001b[0m             \u001b[0;32melse\u001b[0m\u001b[0;34m:\u001b[0m\u001b[0;34m\u001b[0m\u001b[0;34m\u001b[0m\u001b[0m\n",
      "\u001b[0;31mValueError\u001b[0m: substring not found"
     ]
    }
   ],
   "source": [
    "lst = []\n",
    "for i in range(8):\n",
    "    a = list(input())\n",
    "    lst.append(a)\n",
    "\n",
    "sum_=0\n",
    "for i in lst:\n",
    "    if lst.index(i)%2==0:\n",
    "        for j in i:\n",
    "            if j.index('F')%2!=0:\n",
    "                sum_+=1\n",
    "            else:\n",
    "                sum_+=0\n",
    "    else:\n",
    "        for j in i:\n",
    "            if j.index('F')%2==0:\n",
    "                sum_+=1\n",
    "            else:\n",
    "                sum_+=0\n",
    "\n",
    "print(sum_)"
   ]
  },
  {
   "cell_type": "code",
   "execution_count": null,
   "metadata": {},
   "outputs": [],
   "source": [
    "lst = []\n",
    "for i in range(8):\n",
    "    a = list(input())\n",
    "    lst.append(a)\n",
    "    \n",
    "for i in range(8):\n",
    "    for j in range(8):\n",
    "        if lst[i][j] == 'F':\n",
    "            if (i%2==0 and j%2==0):\n",
    "                sum_+=1\n",
    "            if (i%2!=0 and j%2!=0):\n",
    "                sum+=1"
   ]
  },
  {
   "cell_type": "markdown",
   "metadata": {},
   "source": [
    "## 내가 처음에 실패한 거\n",
    "\n",
    "    start_1 = [0,1,0,1,0,1,0,1]\n",
    "    start_2 = [1,0,1,0,1,0,1,0]\n",
    "\n",
    "\n",
    "    answer1 = []\n",
    "    answer2 = []\n",
    "\n",
    "\n",
    "    for i in a:\n",
    "        if i == 'F':\n",
    "            i\n",
    "        else:\n",
    "\n",
    "\n",
    "    for j in range(8):\n",
    "        if j%2==0:\n",
    "            for i in range(8):\n",
    "                if i %2 == 0 :\n",
    "                    chess[i]\n",
    "\n",
    "\n",
    "        else:\n",
    "            for h in range(8):\n",
    "                if h%2 == 1:\n",
    "\n",
    "\n",
    "        for i in chess:\n",
    "            if i = '.':\n"
   ]
  },
  {
   "cell_type": "markdown",
   "metadata": {},
   "source": [
    "## 2번째 실패값\n",
    "#### (index로 하면 처음 나오는 F 값만 index로 끌어오게 됨)"
   ]
  },
  {
   "cell_type": "code",
   "execution_count": 47,
   "metadata": {},
   "outputs": [
    {
     "name": "stdout",
     "output_type": "stream",
     "text": [
      "F...F.F.\n",
      "F...F.F.\n",
      "F...F.F.\n",
      "F...F.F.\n",
      "F...F.F.\n",
      "F...F.F.\n",
      "F...F.F.\n",
      "F...F.F.\n",
      "4\n"
     ]
    }
   ],
   "source": [
    "chess=[]\n",
    "num = 0\n",
    "\n",
    "for i in range(8):\n",
    "    a=input()\n",
    "    chess.append(a)\n",
    "    if i%2==0:\n",
    "        if a.index('F')%2==0:\n",
    "            num +=1\n",
    "        else:\n",
    "            num +=0\n",
    "    else:\n",
    "        num+=0\n",
    "\n",
    "print(num)  "
   ]
  },
  {
   "cell_type": "markdown",
   "metadata": {},
   "source": [
    "## 정답!"
   ]
  },
  {
   "cell_type": "code",
   "execution_count": 49,
   "metadata": {},
   "outputs": [
    {
     "name": "stdout",
     "output_type": "stream",
     "text": [
      ".F.F...F\n",
      ".F.F...F\n",
      ".F.F...F\n",
      ".F.F...F\n",
      ".F.F...F\n",
      ".F.F...F\n",
      ".F.F...F\n",
      ".F.F...F\n",
      "12\n"
     ]
    }
   ],
   "source": [
    "chess = []\n",
    "num = 0\n",
    "\n",
    "for i in range(8):\n",
    "    chess.append(list(input()))\n",
    "\n",
    "for i in range(8):\n",
    "    for j in range(8):\n",
    "        if chess[i][j] == 'F':\n",
    "            if (i%2==0 and j%2==0):\n",
    "                num +=1\n",
    "            elif (i%2==1 and j%2==1):\n",
    "                num +=1\n",
    "        else:\n",
    "            num+=0\n",
    "            \n",
    "print(num)"
   ]
  },
  {
   "cell_type": "markdown",
   "metadata": {},
   "source": [
    "## 지상이 답\n",
    "\n",
    "    chess=[]\n",
    "    cnt=0\n",
    "    for i in range(8):\n",
    "        chess.append(list(input()))\n",
    "    for i in range(8):\n",
    "        for j in range(8):\n",
    "            if(i%2==0 and j%2==0):\n",
    "                if(chess[i][j]=='F'):\n",
    "                    cnt+=1\n",
    "            elif(i%2==1 and j%2==1):\n",
    "                if(chess[i][j]=='F'):\n",
    "                    cnt+=1\n",
    "    print(cnt)\n",
    "    \n",
    "    \n",
    "    \n",
    "['a','b','c,'d'],['c','v','d','b']]\n",
    "\n",
    "chess[0][0]='a'\n",
    "        \n",
    "matrix처럼 표현해낼 수 있는 거임!! 근데 print되는 것만 list 형식이어서 이렇게 일렬로 출력되는 거!!!! numpy를 import하면 matrix처럼 돼서 더 잘 풀릴거임!!!"
   ]
  },
  {
   "cell_type": "markdown",
   "metadata": {},
   "source": [
    "## 10809번\n",
    "\n",
    "\n",
    "https://www.acmicpc.net/problem/10809\n",
    "\n",
    "알파벳 소문자로만 이루어진 단어 S가 주어진다. 각각의 알파벳에 대해서, 단어에 포함되어 있는 경우에는 처음 등장하는 위치를, 포함되어 있지 않은 경우에는 -1을 출력하는 프로그램을 작성하시오.\n",
    "\n",
    "\n",
    "첫째 줄에 단어 S가 주어진다. 단어의 길이는 100을 넘지 않으며, 알파벳 소문자로만 이루어져 있다."
   ]
  },
  {
   "cell_type": "code",
   "execution_count": 1,
   "metadata": {},
   "outputs": [],
   "source": [
    "from string import ascii_lowercase\n",
    "alpha_list = list(ascii_lowercase)"
   ]
  },
  {
   "cell_type": "code",
   "execution_count": 3,
   "metadata": {},
   "outputs": [
    {
     "name": "stdout",
     "output_type": "stream",
     "text": [
      "baekjoon\n",
      "[1, 0, -1, -1, 2, -1, -1, -1, -1, 4, 3, -1, -1, 7, 5, -1, -1, -1, -1, -1, -1, -1, -1, -1, -1, -1] "
     ]
    }
   ],
   "source": [
    "S = list(input())\n",
    "lst = []\n",
    "\n",
    "for i in alpha_list:\n",
    "    if i in S:\n",
    "         lst.append(S.index(i))\n",
    "    else:\n",
    "         lst.append(-1)\n",
    "\n",
    "print(lst,end=' ')\n"
   ]
  },
  {
   "cell_type": "code",
   "execution_count": 11,
   "metadata": {},
   "outputs": [
    {
     "name": "stdout",
     "output_type": "stream",
     "text": [
      "baekjoon\n",
      "[-1, 0, -1, -1, -1, -1, -1, -1, 1, -1, -1, -1, -1, -1, -1, -1, -1, -1, -1, -1, -1, -1, -1, -1, -1, -1, -1, -1, -1, -1, -1, -1, -1, -1, 4, -1, -1, -1, -1, -1, -1, -1, -1, -1, -1, -1, -1, -1, -1, -1, -1, -1, -1, -1, -1, -1, -1, -1, -1, -1, -1, -1, -1, -1, -1, -1, -1, -1, -1, -1, -1, -1, -1, -1, -1, -1, 9, -1, -1, -1, -1, -1, -1, 10, -1, -1, -1, -1, -1, -1, -1, -1, -1, -1, -1, -1, -1, -1, -1, -1, -1, -1, -1, -1, -1, -1, -1, -1, -1, -1, -1, 13, -1, -1, -1, -1, -1, 14, 14, -1, -1, -1, -1, -1, -1, -1, -1, -1, -1, -1, -1, -1, -1, -1, -1, -1, -1, -1, -1, -1, -1, -1, -1, -1, -1, -1, -1, -1, -1, -1, -1, -1, -1, -1, -1, -1, -1, -1, -1, -1, -1, -1, -1, -1, -1, -1, -1, -1, -1, -1, -1, -1, -1, -1, -1, -1, -1, -1, -1, -1, -1, -1, -1, -1, -1, -1, -1, -1, -1, -1, -1, -1, -1, -1, -1, -1, -1, -1, -1, -1, -1, -1, -1, -1, -1, -1, -1, -1]"
     ]
    }
   ],
   "source": [
    "S = input()\n",
    "answer = []\n",
    "for i,name in enumerate(alpha_list):\n",
    "    for j in range(len(S)):\n",
    "        if S[j] in name:\n",
    "            answer.append(i)\n",
    "        else:\n",
    "            answer.append(-1)\n",
    "\n",
    "print(answer,end='')"
   ]
  },
  {
   "cell_type": "code",
   "execution_count": 12,
   "metadata": {},
   "outputs": [
    {
     "name": "stdout",
     "output_type": "stream",
     "text": [
      "baekjoon\n",
      "[-1, 1, -1, -1, -1, -1, -1, -1, -1, -1, -1, -1, -1, -1, -1, -1, -1, -1, -1, -1, -1, -1, -1, -1, -1, -1, 0, -1, -1, -1, -1, -1, -1, -1, -1, -1, -1, -1, -1, -1, -1, -1, -1, -1, -1, -1, -1, -1, -1, -1, -1, -1, -1, -1, -1, -1, 4, -1, -1, -1, -1, -1, -1, -1, -1, -1, -1, -1, -1, -1, -1, -1, -1, -1, -1, -1, -1, -1, -1, -1, -1, -1, -1, -1, -1, -1, -1, -1, 10, -1, -1, -1, -1, -1, -1, -1, -1, -1, -1, -1, -1, -1, -1, -1, -1, -1, -1, -1, -1, -1, -1, -1, -1, 9, -1, -1, -1, -1, -1, -1, -1, -1, -1, -1, -1, -1, -1, -1, -1, -1, -1, -1, -1, -1, -1, -1, -1, -1, -1, -1, -1, -1, -1, -1, 14, -1, -1, -1, -1, -1, -1, -1, -1, -1, -1, -1, -1, -1, -1, -1, -1, -1, -1, -1, -1, -1, -1, -1, -1, -1, 14, -1, -1, -1, -1, -1, -1, -1, -1, -1, -1, -1, -1, -1, -1, -1, -1, -1, -1, -1, -1, -1, -1, -1, -1, 13, -1, -1, -1, -1, -1, -1, -1, -1, -1, -1, -1, -1]"
     ]
    }
   ],
   "source": [
    "S = input()\n",
    "answer = []\n",
    "\n",
    "    \n",
    "for j in range(len(S)):\n",
    "    for i,name in enumerate(alpha_list):\n",
    "        if S[j] == name:\n",
    "            answer.append(i)\n",
    "        else:\n",
    "            answer.append(-1)\n",
    "\n",
    "print(answer,end='')"
   ]
  },
  {
   "cell_type": "code",
   "execution_count": 23,
   "metadata": {},
   "outputs": [
    {
     "name": "stdout",
     "output_type": "stream",
     "text": [
      "baekjoon\n"
     ]
    },
    {
     "ename": "TypeError",
     "evalue": "'builtin_function_or_method' object is not subscriptable",
     "output_type": "error",
     "traceback": [
      "\u001b[0;31m---------------------------------------------------------------------------\u001b[0m",
      "\u001b[0;31mTypeError\u001b[0m                                 Traceback (most recent call last)",
      "\u001b[0;32m<ipython-input-23-ba54568b5ba8>\u001b[0m in \u001b[0;36m<module>\u001b[0;34m\u001b[0m\n\u001b[1;32m      5\u001b[0m \u001b[0;32mfor\u001b[0m \u001b[0mi\u001b[0m \u001b[0;32min\u001b[0m \u001b[0mrange\u001b[0m\u001b[0;34m(\u001b[0m\u001b[0mlen\u001b[0m\u001b[0;34m(\u001b[0m\u001b[0mS\u001b[0m\u001b[0;34m)\u001b[0m\u001b[0;34m)\u001b[0m\u001b[0;34m:\u001b[0m\u001b[0;34m\u001b[0m\u001b[0;34m\u001b[0m\u001b[0m\n\u001b[1;32m      6\u001b[0m     \u001b[0;32mif\u001b[0m \u001b[0mS\u001b[0m\u001b[0;34m[\u001b[0m\u001b[0mi\u001b[0m\u001b[0;34m]\u001b[0m \u001b[0;32min\u001b[0m \u001b[0malpha_list\u001b[0m\u001b[0;34m:\u001b[0m\u001b[0;34m\u001b[0m\u001b[0;34m\u001b[0m\u001b[0m\n\u001b[0;32m----> 7\u001b[0;31m         \u001b[0manswer\u001b[0m\u001b[0;34m.\u001b[0m\u001b[0mappend\u001b[0m\u001b[0;34m[\u001b[0m\u001b[0malpha_list\u001b[0m\u001b[0;34m.\u001b[0m\u001b[0mindex\u001b[0m\u001b[0;34m(\u001b[0m\u001b[0mS\u001b[0m\u001b[0;34m[\u001b[0m\u001b[0mi\u001b[0m\u001b[0;34m]\u001b[0m\u001b[0;34m)\u001b[0m\u001b[0;34m]\u001b[0m\u001b[0;34m\u001b[0m\u001b[0;34m\u001b[0m\u001b[0m\n\u001b[0m\u001b[1;32m      8\u001b[0m     \u001b[0;32melse\u001b[0m\u001b[0;34m:\u001b[0m\u001b[0;34m\u001b[0m\u001b[0;34m\u001b[0m\u001b[0m\n\u001b[1;32m      9\u001b[0m         \u001b[0manswer\u001b[0m\u001b[0;34m.\u001b[0m\u001b[0mappend\u001b[0m\u001b[0;34m[\u001b[0m\u001b[0;34m-\u001b[0m\u001b[0;36m1\u001b[0m\u001b[0;34m]\u001b[0m\u001b[0;34m\u001b[0m\u001b[0;34m\u001b[0m\u001b[0m\n",
      "\u001b[0;31mTypeError\u001b[0m: 'builtin_function_or_method' object is not subscriptable"
     ]
    }
   ],
   "source": [
    "S = input()\n",
    "answer = []\n",
    "\n",
    "\n",
    "for i in range(len(S)):\n",
    "    if S[i] in alpha_list:\n",
    "        answer.append[alpha_list.index(S[i])]\n",
    "    else:\n",
    "        answer.append[-1]\n",
    "\n",
    "print(answer, end='')"
   ]
  },
  {
   "cell_type": "code",
   "execution_count": 36,
   "metadata": {},
   "outputs": [
    {
     "name": "stdout",
     "output_type": "stream",
     "text": [
      "baekjoon\n",
      "[1, 0, -1, -1, 2, -1, -1, -1, -1, 4, 3, -1, -1, 7, 5, -1, -1, -1, -1, -1, -1, -1, -1, -1, -1, -1]"
     ]
    }
   ],
   "source": [
    "S = list(input())\n",
    "answer = []\n",
    "\n",
    "for i in alpha_list:\n",
    "    if i in S:\n",
    "        answer.append(S.index(i))\n",
    "    else:\n",
    "        answer.append(-1)\n",
    "        \n",
    "print(answer, end='')\n"
   ]
  },
  {
   "cell_type": "markdown",
   "metadata": {},
   "source": [
    "## 지상이답\n",
    "\n",
    "\n",
    "    alphabet=list(input())\n",
    "    for i in range(97,123):\n",
    "        if(chr(i)in alphabet):\n",
    "            print(alphabet.index(chr(i)),end=' ')\n",
    "        else:\n",
    "            print(-1,end=' ')\n",
    "            \n",
    "            \n"
   ]
  },
  {
   "cell_type": "markdown",
   "metadata": {},
   "source": [
    "## 지원이답\n",
    "\n",
    "    from string import ascii_lowercase\n",
    "    L = list(ascii_lowercase)\n",
    "    S = input()\n",
    "    for i in range(len(L)):\n",
    "       print(S.find(L[i]), end=' ')\n",
    "\n",
    "\n",
    "\n",
    "\n",
    "\n",
    "\n",
    "    '''\n",
    "    a.find('b') : 문자열에서 b가 처음 나온 위치 반환. \n",
    "    찾는 문자나 문자열이 존재하지 않으면 -1 반환\n",
    "    a.index('b') : find 함수와 기능은 같지만, \n",
    "    문자열 안에 존재하지 않는 문자를 찾으면 오류 발생\n",
    "    '''"
   ]
  },
  {
   "cell_type": "markdown",
   "metadata": {},
   "source": [
    "## 4344번\n",
    "\n",
    "https://www.acmicpc.net/problem/4344\n",
    "\n",
    "대학생 새내기들의 90%는 자신이 반에서 평균은 넘는다고 생각한다. 당신은 그들에게 슬픈 진실을 알려줘야 한다.\n",
    "\n",
    "\n",
    "첫째 줄에는 테스트 케이스의 개수 C가 주어진다.\n",
    "\n",
    "둘째 줄부터 각 테스트 케이스마다 학생의 수 N(1 ≤ N ≤ 1000, N은 정수)이 첫 수로 주어지고, 이어서 N명의 점수가 주어진다. 점수는 0보다 크거나 같고, 100보다 작거나 같은 정수이다."
   ]
  },
  {
   "cell_type": "code",
   "execution_count": null,
   "metadata": {},
   "outputs": [],
   "source": [
    "C = int(input())\n",
    "for i in range(C):\n",
    "    a = list(input())\n",
    "    "
   ]
  },
  {
   "cell_type": "markdown",
   "metadata": {},
   "source": [
    "## 블랙잭 - 캐글 문제"
   ]
  },
  {
   "cell_type": "markdown",
   "metadata": {},
   "source": [
    "\n",
    "    def blackjack_hand_greater_than(hand_1, hand_2):\n",
    "\n",
    "    Return True if hand_1 beats hand_2, and False otherwise.\n",
    "    \n",
    "    \n",
    "    \n",
    "    \n",
    "   In order for hand_1 to beat hand_2 the following must be true:\n",
    "   \n",
    "   - The total of hand_1 must not exceed 21\n",
    "   - The total of hand_1 must exceed the total of hand_2 OR hand_2's total must exceed 21\n",
    "     \n",
    "   Hands are represented as a list of cards. Each card is represented by a string.\n",
    "    \n",
    "   When adding up a hand's total, cards with numbers count for that many points. Face cards ('J', 'Q', and 'K') are worth 10 points. 'A' can count for 1 or 11.\n",
    "    \n",
    "   When determining a hand's total, you should try to count aces in the way that \n",
    "    \n",
    "   maximizes the hand's total without going over 21. e.g. the total of ['A', 'A', '9'] is 21, the total of ['A', 'A', '9', '3'] is 14.\n",
    "    \n",
    "        Examples:\n",
    "            blackjack_hand_greater_than(['K'], ['3', '4'])\n",
    "          = True\n",
    "            blackjack_hand_greater_than(['K'], ['10'])\n",
    "          = False\n",
    "            blackjack_hand_greater_than(['K', 'K', '2'], ['3'])\n",
    "          = False\n",
    "        \"\"\"\n",
    "\n",
    "     "
   ]
  },
  {
   "cell_type": "code",
   "execution_count": 56,
   "metadata": {},
   "outputs": [
    {
     "ename": "SyntaxError",
     "evalue": "can't assign to literal (<ipython-input-56-3c262fa886e6>, line 7)",
     "output_type": "error",
     "traceback": [
      "\u001b[0;36m  File \u001b[0;32m\"<ipython-input-56-3c262fa886e6>\"\u001b[0;36m, line \u001b[0;32m7\u001b[0m\n\u001b[0;31m    'K'=int(10)\u001b[0m\n\u001b[0m               ^\u001b[0m\n\u001b[0;31mSyntaxError\u001b[0m\u001b[0;31m:\u001b[0m can't assign to literal\n"
     ]
    }
   ],
   "source": [
    "hand1=list(input())\n",
    "hand2=list(input())\n",
    "\n",
    "\n",
    "result1 = 0 \n",
    "result2=0\n",
    "'K'= int(10)\n",
    "'J'= int(10)\n",
    "'Q'= int(10)\n",
    "\n",
    "for i in hand_1:\n",
    "    if 'A' in hand_1:\n",
    "        del hand_1['A']\n",
    "        if sum(int(hand_1))<=11:\n",
    "            result1 = 11 + sum(int(hand_1))\n",
    "        else:\n",
    "            result1 = 1 + sum(int(hand_1))\n",
    "    else:\n",
    "        result1 = sum(int(hand_1))\n",
    "        \n",
    "for i in hand_2:\n",
    "    if 'A' in hand_2:\n",
    "        del hand_2['A']\n",
    "        if sum(int(hand_1))<=11:\n",
    "            result2 = 11 + sum(int(hand_2))\n",
    "        else:\n",
    "            result2 = 1 + sum(int(hand_2))\n",
    "    else:\n",
    "        result2 = sum(int(hand_2))\n",
    "        \n",
    "result1>result2\n"
   ]
  },
  {
   "cell_type": "markdown",
   "metadata": {},
   "source": [
    "## 4344번\n",
    "\n",
    "\n",
    "대학생 새내기들의 90%는 자신이 반에서 평균은 넘는다고 생각한다. 당신은 그들에게 슬픈 진실을 알려줘야 한다.\n",
    "\n",
    "\n",
    "첫째 줄에는 테스트 케이스의 개수 C가 주어진다.\n",
    "\n",
    "\n",
    "둘째 줄부터 각 테스트 케이스마다 학생의 수 N(1 ≤ N ≤ 1000, N은 정수)이 첫 수로 주어지고, 이어서 N명의 점수가 주어진다. 점수는 0보다 크거나 같고, 100보다 작거나 같은 정수이다.\n",
    "\n",
    "\n",
    "각 케이스마다 한 줄씩 평균을 넘는 학생들의 비율을 반올림하여 소수점 셋째 자리까지 출력한다.\n",
    "\n",
    "\n",
    "    예제 입력 1 \n",
    "            `5\n",
    "            5 50 50 70 80 100\n",
    "            7 100 95 90 80 70 60 50\n",
    "            3 70 90 80\n",
    "            3 70 90 81\n",
    "            9 100 99 98 97 96 95 94 93 91\n",
    "\n",
    "    예제 출력 1 \n",
    "            40.000%\n",
    "            57.143%\n",
    "            33.333%\n",
    "            66.667%\n",
    "            55.556%"
   ]
  },
  {
   "cell_type": "code",
   "execution_count": 87,
   "metadata": {},
   "outputs": [
    {
     "ename": "SyntaxError",
     "evalue": "invalid syntax (<ipython-input-87-8665793d0522>, line 6)",
     "output_type": "error",
     "traceback": [
      "\u001b[0;36m  File \u001b[0;32m\"<ipython-input-87-8665793d0522>\"\u001b[0;36m, line \u001b[0;32m6\u001b[0m\n\u001b[0;31m    lst.append(case)\u001b[0m\n\u001b[0m      ^\u001b[0m\n\u001b[0;31mSyntaxError\u001b[0m\u001b[0;31m:\u001b[0m invalid syntax\n"
     ]
    }
   ],
   "source": [
    "\n",
    "casenum = int(input())\n",
    "lst = []\n",
    "\n",
    "for i in range(casenum):\n",
    "    case = list(map(int,input().split())\n",
    "    lst.append(case)"
   ]
  },
  {
   "cell_type": "code",
   "execution_count": 85,
   "metadata": {},
   "outputs": [
    {
     "ename": "SyntaxError",
     "evalue": "invalid syntax (<ipython-input-85-9f2192a6b0fe>, line 5)",
     "output_type": "error",
     "traceback": [
      "\u001b[0;36m  File \u001b[0;32m\"<ipython-input-85-9f2192a6b0fe>\"\u001b[0;36m, line \u001b[0;32m5\u001b[0m\n\u001b[0;31m    lst.append(case)\u001b[0m\n\u001b[0m      ^\u001b[0m\n\u001b[0;31mSyntaxError\u001b[0m\u001b[0;31m:\u001b[0m invalid syntax\n"
     ]
    }
   ],
   "source": [
    "casenum = int(input())\n",
    "lst = []\n",
    "for i in range(casenum):\n",
    "    case = list(map(int,input().split())\n",
    "    lst.append(case)\n",
    "    \n",
    "    \n",
    "sum_=0\n",
    "total_=0\n",
    "check = 0\n",
    "for i in range(casenum):    \n",
    "    sum_ = sum_ + lst[i][0]\n",
    "    total_ = total_ + sum(lst[i][1:])\n",
    "\n",
    "        \n",
    "for i in lst:\n",
    "    for j in i[1:]:\n",
    "        if j > sum_/total_:\n",
    "            check +=1 \n",
    "            print(check/i[0]*100)\n",
    "        "
   ]
  },
  {
   "cell_type": "code",
   "execution_count": 68,
   "metadata": {},
   "outputs": [
    {
     "name": "stdout",
     "output_type": "stream",
     "text": [
      "2\n",
      "9 100 99 98 97 96 95 94 93 91\n",
      "9 100 99 98 97 96 95 94 93 91\n"
     ]
    },
    {
     "ename": "TypeError",
     "evalue": "unsupported operand type(s) for +: 'int' and 'str'",
     "output_type": "error",
     "traceback": [
      "\u001b[0;31m---------------------------------------------------------------------------\u001b[0m",
      "\u001b[0;31mTypeError\u001b[0m                                 Traceback (most recent call last)",
      "\u001b[0;32m<ipython-input-68-ecd7aec8d457>\u001b[0m in \u001b[0;36m<module>\u001b[0;34m\u001b[0m\n\u001b[1;32m     10\u001b[0m \u001b[0;34m\u001b[0m\u001b[0m\n\u001b[1;32m     11\u001b[0m \u001b[0;32mfor\u001b[0m \u001b[0mi\u001b[0m \u001b[0;32min\u001b[0m \u001b[0mlst\u001b[0m\u001b[0;34m:\u001b[0m\u001b[0;34m\u001b[0m\u001b[0;34m\u001b[0m\u001b[0m\n\u001b[0;32m---> 12\u001b[0;31m     \u001b[0msum_\u001b[0m \u001b[0;34m=\u001b[0m \u001b[0msum_\u001b[0m \u001b[0;34m+\u001b[0m \u001b[0msum\u001b[0m\u001b[0;34m(\u001b[0m\u001b[0mi\u001b[0m\u001b[0;34m[\u001b[0m\u001b[0;36m0\u001b[0m\u001b[0;34m]\u001b[0m\u001b[0;34m)\u001b[0m\u001b[0;34m\u001b[0m\u001b[0;34m\u001b[0m\u001b[0m\n\u001b[0m\u001b[1;32m     13\u001b[0m     \u001b[0mtotal_\u001b[0m \u001b[0;34m=\u001b[0m \u001b[0mtotal_\u001b[0m \u001b[0;34m+\u001b[0m \u001b[0msum\u001b[0m\u001b[0;34m(\u001b[0m\u001b[0mi\u001b[0m\u001b[0;34m[\u001b[0m\u001b[0;36m1\u001b[0m\u001b[0;34m:\u001b[0m\u001b[0;34m]\u001b[0m\u001b[0;34m)\u001b[0m\u001b[0;34m\u001b[0m\u001b[0;34m\u001b[0m\u001b[0m\n\u001b[1;32m     14\u001b[0m     \u001b[0mmean_\u001b[0m \u001b[0;34m=\u001b[0m \u001b[0msum_\u001b[0m\u001b[0;34m/\u001b[0m\u001b[0mtotal_\u001b[0m\u001b[0;34m\u001b[0m\u001b[0;34m\u001b[0m\u001b[0m\n",
      "\u001b[0;31mTypeError\u001b[0m: unsupported operand type(s) for +: 'int' and 'str'"
     ]
    }
   ],
   "source": [
    "casenum = int(input())\n",
    "lst = []\n",
    "for i in range(casenum):\n",
    "    case = list(input())\n",
    "    lst.append(case)\n",
    "\n",
    "sum_=0\n",
    "total_=0\n",
    "check = 0\n",
    "\n",
    "for i in lst:\n",
    "    sum_ = sum_ + sum(i[0])\n",
    "    total_ = total_ + sum(i[1:])\n",
    "    mean_ = sum_/total_\n",
    "    for h in i:\n",
    "        if h > mean_:\n",
    "            check +=1\n",
    "            print(check/int(i[:1]))\n",
    "    "
   ]
  },
  {
   "cell_type": "markdown",
   "metadata": {},
   "source": [
    "## 실패버전"
   ]
  },
  {
   "cell_type": "code",
   "execution_count": 91,
   "metadata": {},
   "outputs": [
    {
     "name": "stdout",
     "output_type": "stream",
     "text": [
      "1\n",
      "5 50 50 70 80 100\n",
      "16.666666666666664\n",
      "33.33333333333333\n"
     ]
    }
   ],
   "source": [
    "C = int(input())\n",
    "answer = []\n",
    "check = 0\n",
    "for i in range(C):\n",
    "    a = list(map(int,input().split()))\n",
    "    average = sum(a[1:])/a[0]\n",
    "    for j in a[1:]:\n",
    "        if j>average:\n",
    "            check += 1\n",
    "            print(check/len(a)*100)"
   ]
  },
  {
   "cell_type": "code",
   "execution_count": 58,
   "metadata": {},
   "outputs": [
    {
     "name": "stdout",
     "output_type": "stream",
     "text": [
      "5 50 50 70 80 100\n"
     ]
    },
    {
     "ename": "TypeError",
     "evalue": "int() argument must be a string, a bytes-like object or a number, not 'list'",
     "output_type": "error",
     "traceback": [
      "\u001b[0;31m---------------------------------------------------------------------------\u001b[0m",
      "\u001b[0;31mTypeError\u001b[0m                                 Traceback (most recent call last)",
      "\u001b[0;32m<ipython-input-58-a09d8a78fe5b>\u001b[0m in \u001b[0;36m<module>\u001b[0;34m\u001b[0m\n\u001b[1;32m      6\u001b[0m     \u001b[0ma\u001b[0m \u001b[0;34m=\u001b[0m \u001b[0mlist\u001b[0m\u001b[0;34m(\u001b[0m\u001b[0minput\u001b[0m\u001b[0;34m(\u001b[0m\u001b[0;34m)\u001b[0m\u001b[0;34m)\u001b[0m\u001b[0;34m\u001b[0m\u001b[0;34m\u001b[0m\u001b[0m\n\u001b[1;32m      7\u001b[0m     \u001b[0mlst\u001b[0m\u001b[0;34m.\u001b[0m\u001b[0mappend\u001b[0m\u001b[0;34m(\u001b[0m\u001b[0ma\u001b[0m\u001b[0;34m)\u001b[0m\u001b[0;34m\u001b[0m\u001b[0;34m\u001b[0m\u001b[0m\n\u001b[0;32m----> 8\u001b[0;31m     \u001b[0msum_\u001b[0m \u001b[0;34m=\u001b[0m \u001b[0msum_\u001b[0m \u001b[0;34m+\u001b[0m \u001b[0msum\u001b[0m\u001b[0;34m(\u001b[0m\u001b[0mint\u001b[0m\u001b[0;34m(\u001b[0m\u001b[0ma\u001b[0m\u001b[0;34m[\u001b[0m\u001b[0;36m1\u001b[0m\u001b[0;34m:\u001b[0m\u001b[0;34m]\u001b[0m\u001b[0;34m)\u001b[0m\u001b[0;34m)\u001b[0m\u001b[0;34m\u001b[0m\u001b[0;34m\u001b[0m\u001b[0m\n\u001b[0m\u001b[1;32m      9\u001b[0m     \u001b[0mnum\u001b[0m \u001b[0;34m=\u001b[0m \u001b[0mnum\u001b[0m \u001b[0;34m+\u001b[0m \u001b[0msum\u001b[0m\u001b[0;34m(\u001b[0m\u001b[0mint\u001b[0m\u001b[0;34m(\u001b[0m\u001b[0ma\u001b[0m\u001b[0;34m[\u001b[0m\u001b[0;34m:\u001b[0m\u001b[0;36m1\u001b[0m\u001b[0;34m]\u001b[0m\u001b[0;34m)\u001b[0m\u001b[0;34m)\u001b[0m\u001b[0;34m\u001b[0m\u001b[0;34m\u001b[0m\u001b[0m\n\u001b[1;32m     10\u001b[0m \u001b[0;34m\u001b[0m\u001b[0m\n",
      "\u001b[0;31mTypeError\u001b[0m: int() argument must be a string, a bytes-like object or a number, not 'list'"
     ]
    }
   ],
   "source": [
    "\n",
    "sum_=0\n",
    "num=0\n",
    "check=0\n",
    "lst=[]\n",
    "for i in range(5):\n",
    "    a = list(input())\n",
    "    lst.append(a)\n",
    "    sum_ = sum_ + sum(int(a[1:]))\n",
    "    num = num + sum(int(a[:1]))\n",
    "\n",
    "for h in lst:\n",
    "    if h[1:] > sum_/num:\n",
    "        check +=1\n",
    "        print(check/int(h[:1]))\n",
    "    "
   ]
  },
  {
   "cell_type": "code",
   "execution_count": null,
   "metadata": {},
   "outputs": [],
   "source": [
    "case = int(input())\n",
    "sum_ = 0\n",
    "case_=[]\n",
    "\n",
    "for i in range(5):\n",
    "    case_ = list(map(int,input()))\n",
    "    normalize = case_[1:]\n",
    "    mean_ = mean(normalize)\n",
    "    sum_ = mean_ + sum_\n",
    "    print(mean(sum_))\n",
    "    \n",
    "    for i in range(5):\n",
    "    \n",
    "    \n",
    "    totalmean=sum_/int(case)\n",
    "    "
   ]
  }
 ],
 "metadata": {
  "kernelspec": {
   "display_name": "Python 3",
   "language": "python",
   "name": "python3"
  },
  "language_info": {
   "codemirror_mode": {
    "name": "ipython",
    "version": 3
   },
   "file_extension": ".py",
   "mimetype": "text/x-python",
   "name": "python",
   "nbconvert_exporter": "python",
   "pygments_lexer": "ipython3",
   "version": "3.7.4"
  }
 },
 "nbformat": 4,
 "nbformat_minor": 2
}
